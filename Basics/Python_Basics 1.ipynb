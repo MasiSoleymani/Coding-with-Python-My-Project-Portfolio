{
 "cells": [
  {
   "cell_type": "markdown",
   "metadata": {},
   "source": [
    "#### Identifiers\n",
    "    * An Identifier is a name given to entities like variables, class, functions etc. It helps to differentiate one entity from another."
   ]
  },
  {
   "cell_type": "code",
   "execution_count": 1,
   "metadata": {},
   "outputs": [],
   "source": [
    "# This is single line comments in python programming"
   ]
  },
  {
   "cell_type": "code",
   "execution_count": 2,
   "metadata": {},
   "outputs": [
    {
     "name": "stdout",
     "output_type": "stream",
     "text": [
      "Hello World\n"
     ]
    }
   ],
   "source": [
    "\"\"\"\n",
    "This is syntax of paragraph in python.\n",
    "This can be also used for Multi-line syntax\n",
    "\"\"\"\n",
    "print(\"Hello World\")"
   ]
  },
  {
   "cell_type": "code",
   "execution_count": 3,
   "metadata": {},
   "outputs": [],
   "source": [
    "# variable name declaration\n",
    "var = 10"
   ]
  },
  {
   "cell_type": "code",
   "execution_count": 4,
   "metadata": {},
   "outputs": [
    {
     "ename": "SyntaxError",
     "evalue": "invalid syntax (<ipython-input-4-3486e46bd7d7>, line 2)",
     "output_type": "error",
     "traceback": [
      "\u001b[1;36m  File \u001b[1;32m\"<ipython-input-4-3486e46bd7d7>\"\u001b[1;36m, line \u001b[1;32m2\u001b[0m\n\u001b[1;33m    1var = \"Python\"\u001b[0m\n\u001b[1;37m     ^\u001b[0m\n\u001b[1;31mSyntaxError\u001b[0m\u001b[1;31m:\u001b[0m invalid syntax\n"
     ]
    }
   ],
   "source": [
    "# Never start variable name with number\n",
    "1var = \"Python\""
   ]
  },
  {
   "cell_type": "code",
   "execution_count": 5,
   "metadata": {},
   "outputs": [
    {
     "ename": "SyntaxError",
     "evalue": "invalid syntax (<ipython-input-5-858a1fb82dd0>, line 2)",
     "output_type": "error",
     "traceback": [
      "\u001b[1;36m  File \u001b[1;32m\"<ipython-input-5-858a1fb82dd0>\"\u001b[1;36m, line \u001b[1;32m2\u001b[0m\n\u001b[1;33m    class = 123\u001b[0m\n\u001b[1;37m          ^\u001b[0m\n\u001b[1;31mSyntaxError\u001b[0m\u001b[1;31m:\u001b[0m invalid syntax\n"
     ]
    }
   ],
   "source": [
    "# Keyword names cant be variable name\n",
    "class = 123"
   ]
  },
  {
   "cell_type": "code",
   "execution_count": 6,
   "metadata": {},
   "outputs": [],
   "source": [
    "_ = 123   # underscore(_) is a legal variable name\n",
    "_var = 101"
   ]
  },
  {
   "cell_type": "code",
   "execution_count": 7,
   "metadata": {},
   "outputs": [
    {
     "name": "stdout",
     "output_type": "stream",
     "text": [
      "123\n"
     ]
    }
   ],
   "source": [
    "print(_)"
   ]
  },
  {
   "cell_type": "code",
   "execution_count": 8,
   "metadata": {},
   "outputs": [
    {
     "ename": "SyntaxError",
     "evalue": "invalid syntax (<ipython-input-8-106a9d7f7bf5>, line 2)",
     "output_type": "error",
     "traceback": [
      "\u001b[1;36m  File \u001b[1;32m\"<ipython-input-8-106a9d7f7bf5>\"\u001b[1;36m, line \u001b[1;32m2\u001b[0m\n\u001b[1;33m    var@ = 34\u001b[0m\n\u001b[1;37m         ^\u001b[0m\n\u001b[1;31mSyntaxError\u001b[0m\u001b[1;31m:\u001b[0m invalid syntax\n"
     ]
    }
   ],
   "source": [
    "# Variable names cant use special symbols\n",
    "var@ = 34"
   ]
  },
  {
   "cell_type": "code",
   "execution_count": 9,
   "metadata": {},
   "outputs": [],
   "source": [
    "var1 = \"Python\""
   ]
  },
  {
   "cell_type": "markdown",
   "metadata": {},
   "source": [
    "#### Keywords"
   ]
  },
  {
   "cell_type": "code",
   "execution_count": 10,
   "metadata": {},
   "outputs": [],
   "source": [
    "# import is used to import library/package\n",
    "import keyword"
   ]
  },
  {
   "cell_type": "code",
   "execution_count": 11,
   "metadata": {},
   "outputs": [
    {
     "name": "stdout",
     "output_type": "stream",
     "text": [
      "['False', 'None', 'True', 'and', 'as', 'assert', 'async', 'await', 'break', 'class', 'continue', 'def', 'del', 'elif', 'else', 'except', 'finally', 'for', 'from', 'global', 'if', 'import', 'in', 'is', 'lambda', 'nonlocal', 'not', 'or', 'pass', 'raise', 'return', 'try', 'while', 'with', 'yield']\n"
     ]
    }
   ],
   "source": [
    "print(keyword.kwlist)"
   ]
  },
  {
   "cell_type": "code",
   "execution_count": 12,
   "metadata": {},
   "outputs": [
    {
     "data": {
      "text/plain": [
       "35"
      ]
     },
     "execution_count": 12,
     "metadata": {},
     "output_type": "execute_result"
    }
   ],
   "source": [
    "# Return length/size of variable\n",
    "len(keyword.kwlist)"
   ]
  },
  {
   "cell_type": "markdown",
   "metadata": {},
   "source": [
    "#### Primitive Data Types\n",
    "    * Integer, Float, String, Boolean, Complex"
   ]
  },
  {
   "cell_type": "code",
   "execution_count": 13,
   "metadata": {},
   "outputs": [],
   "source": [
    "val_1 = 30 "
   ]
  },
  {
   "cell_type": "code",
   "execution_count": 14,
   "metadata": {},
   "outputs": [
    {
     "data": {
      "text/plain": [
       "int"
      ]
     },
     "execution_count": 14,
     "metadata": {},
     "output_type": "execute_result"
    }
   ],
   "source": [
    "# Returns datatype of variable\n",
    "type(val_1)"
   ]
  },
  {
   "cell_type": "code",
   "execution_count": 15,
   "metadata": {},
   "outputs": [
    {
     "name": "stdout",
     "output_type": "stream",
     "text": [
      "30\n"
     ]
    }
   ],
   "source": [
    "# prints the value of variable\n",
    "print(val_1)"
   ]
  },
  {
   "cell_type": "code",
   "execution_count": 16,
   "metadata": {},
   "outputs": [
    {
     "name": "stdout",
     "output_type": "stream",
     "text": [
      "50\n"
     ]
    }
   ],
   "source": [
    "val_2 = val_1 + 20\n",
    "print(val_2)"
   ]
  },
  {
   "cell_type": "code",
   "execution_count": 17,
   "metadata": {},
   "outputs": [],
   "source": [
    "# Float\n",
    "val_3 = 12345.91"
   ]
  },
  {
   "cell_type": "code",
   "execution_count": 18,
   "metadata": {},
   "outputs": [
    {
     "name": "stdout",
     "output_type": "stream",
     "text": [
      "<class 'float'>\n"
     ]
    }
   ],
   "source": [
    "print(type(val_3))"
   ]
  },
  {
   "cell_type": "code",
   "execution_count": 19,
   "metadata": {},
   "outputs": [],
   "source": [
    "# Boolean Data Type 0 - False, 1 - True\n",
    "bool_1 = True\n",
    "bool_2 = False"
   ]
  },
  {
   "cell_type": "code",
   "execution_count": 20,
   "metadata": {},
   "outputs": [
    {
     "data": {
      "text/plain": [
       "False"
      ]
     },
     "execution_count": 20,
     "metadata": {},
     "output_type": "execute_result"
    }
   ],
   "source": [
    "bool(0)"
   ]
  },
  {
   "cell_type": "code",
   "execution_count": 21,
   "metadata": {},
   "outputs": [
    {
     "data": {
      "text/plain": [
       "True"
      ]
     },
     "execution_count": 21,
     "metadata": {},
     "output_type": "execute_result"
    }
   ],
   "source": [
    "bool(1)"
   ]
  },
  {
   "cell_type": "code",
   "execution_count": 22,
   "metadata": {},
   "outputs": [],
   "source": [
    "# String\n",
    "str_1 = 'This is python string'\n",
    "str_2 = \"This is also a python string\""
   ]
  },
  {
   "cell_type": "code",
   "execution_count": 23,
   "metadata": {},
   "outputs": [
    {
     "name": "stdout",
     "output_type": "stream",
     "text": [
      "This is python string\n"
     ]
    }
   ],
   "source": [
    "print(str_1)"
   ]
  },
  {
   "cell_type": "code",
   "execution_count": 24,
   "metadata": {},
   "outputs": [],
   "source": [
    "str_3 = \"HELLO PYTHON AGAIN\""
   ]
  },
  {
   "cell_type": "code",
   "execution_count": 25,
   "metadata": {},
   "outputs": [
    {
     "data": {
      "text/plain": [
       "str"
      ]
     },
     "execution_count": 25,
     "metadata": {},
     "output_type": "execute_result"
    }
   ],
   "source": [
    "str_4 = \"12345.678\"\n",
    "type(str_4)"
   ]
  },
  {
   "cell_type": "code",
   "execution_count": 26,
   "metadata": {},
   "outputs": [
    {
     "name": "stdout",
     "output_type": "stream",
     "text": [
      "Yeah! We are learning python Yeah! We are learning python Yeah! We are learning python Yeah! We are learning python Yeah! We are learning python \n"
     ]
    }
   ],
   "source": [
    "mystr1 = 'Yeah! We are learning python '\n",
    "print(mystr1 * 5)"
   ]
  },
  {
   "cell_type": "markdown",
   "metadata": {},
   "source": [
    "#### String Indexing"
   ]
  },
  {
   "cell_type": "code",
   "execution_count": 27,
   "metadata": {},
   "outputs": [],
   "source": [
    "mystr2 = 'This is simplilearn data analytics program. We are learning python programming'"
   ]
  },
  {
   "cell_type": "code",
   "execution_count": 28,
   "metadata": {},
   "outputs": [
    {
     "data": {
      "text/plain": [
       "'T'"
      ]
     },
     "execution_count": 28,
     "metadata": {},
     "output_type": "execute_result"
    }
   ],
   "source": [
    "mystr2[0]      # First Character"
   ]
  },
  {
   "cell_type": "code",
   "execution_count": 29,
   "metadata": {},
   "outputs": [
    {
     "data": {
      "text/plain": [
       "'g'"
      ]
     },
     "execution_count": 29,
     "metadata": {},
     "output_type": "execute_result"
    }
   ],
   "source": [
    "mystr2[-1]      # Last Character"
   ]
  },
  {
   "cell_type": "code",
   "execution_count": 30,
   "metadata": {},
   "outputs": [
    {
     "data": {
      "text/plain": [
       "'s'"
      ]
     },
     "execution_count": 30,
     "metadata": {},
     "output_type": "execute_result"
    }
   ],
   "source": [
    "mystr2[8]"
   ]
  },
  {
   "cell_type": "markdown",
   "metadata": {},
   "source": [
    "#### String Slicing"
   ]
  },
  {
   "cell_type": "code",
   "execution_count": 31,
   "metadata": {},
   "outputs": [
    {
     "data": {
      "text/plain": [
       "'simplilearn'"
      ]
     },
     "execution_count": 31,
     "metadata": {},
     "output_type": "execute_result"
    }
   ],
   "source": [
    "# 8 -> start index, 19 -> last index position will be excluded\n",
    "mystr2[8:19]"
   ]
  },
  {
   "cell_type": "code",
   "execution_count": 32,
   "metadata": {},
   "outputs": [
    {
     "data": {
      "text/plain": [
       "'This'"
      ]
     },
     "execution_count": 32,
     "metadata": {},
     "output_type": "execute_result"
    }
   ],
   "source": [
    "mystr2[0:4]"
   ]
  },
  {
   "cell_type": "code",
   "execution_count": 33,
   "metadata": {},
   "outputs": [
    {
     "data": {
      "text/plain": [
       "'programming'"
      ]
     },
     "execution_count": 33,
     "metadata": {},
     "output_type": "execute_result"
    }
   ],
   "source": [
    "# Retrieve last 11 elements of string data types\n",
    "mystr2[-11:]"
   ]
  },
  {
   "cell_type": "code",
   "execution_count": 34,
   "metadata": {},
   "outputs": [
    {
     "data": {
      "text/plain": [
       "'This is simplilearn data analytics program. We are learning python programming'"
      ]
     },
     "execution_count": 34,
     "metadata": {},
     "output_type": "execute_result"
    }
   ],
   "source": [
    "# start position is empty , end position is also empty -> It displays all elements\n",
    "mystr2[:]"
   ]
  },
  {
   "cell_type": "markdown",
   "metadata": {},
   "source": [
    "#### String Functions"
   ]
  },
  {
   "cell_type": "code",
   "execution_count": 35,
   "metadata": {},
   "outputs": [
    {
     "data": {
      "text/plain": [
       "'Data analytics with python programming'"
      ]
     },
     "execution_count": 35,
     "metadata": {},
     "output_type": "execute_result"
    }
   ],
   "source": [
    "# String Capitalize\n",
    "mystr_3 = \"data Analytics with Python Programming\"\n",
    "mystr_3.capitalize()   # Make first letter of sentence as capital"
   ]
  },
  {
   "cell_type": "code",
   "execution_count": 36,
   "metadata": {},
   "outputs": [],
   "source": [
    "mystr_3 = mystr_3.capitalize()"
   ]
  },
  {
   "cell_type": "code",
   "execution_count": 37,
   "metadata": {},
   "outputs": [
    {
     "data": {
      "text/plain": [
       "'data analytics with python programming'"
      ]
     },
     "execution_count": 37,
     "metadata": {},
     "output_type": "execute_result"
    }
   ],
   "source": [
    "# lower\n",
    "mystr_3.lower()"
   ]
  },
  {
   "cell_type": "code",
   "execution_count": 38,
   "metadata": {},
   "outputs": [
    {
     "data": {
      "text/plain": [
       "'DATA ANALYTICS WITH PYTHON PROGRAMMING'"
      ]
     },
     "execution_count": 38,
     "metadata": {},
     "output_type": "execute_result"
    }
   ],
   "source": [
    "# upper\n",
    "mystr_3.upper()"
   ]
  },
  {
   "cell_type": "code",
   "execution_count": 39,
   "metadata": {},
   "outputs": [
    {
     "data": {
      "text/plain": [
       "('Data analytics ', 'with', ' python programming')"
      ]
     },
     "execution_count": 39,
     "metadata": {},
     "output_type": "execute_result"
    }
   ],
   "source": [
    "# partition\n",
    "mystr_3.partition(\"with\")"
   ]
  },
  {
   "cell_type": "code",
   "execution_count": 40,
   "metadata": {},
   "outputs": [
    {
     "data": {
      "text/plain": [
       "['Data', 'analytics', 'with', 'python', 'programming']"
      ]
     },
     "execution_count": 40,
     "metadata": {},
     "output_type": "execute_result"
    }
   ],
   "source": [
    "# splitting - split strings into substrings by comma, space, semi-colon\n",
    "mystr_3.split(' ')"
   ]
  },
  {
   "cell_type": "code",
   "execution_count": 41,
   "metadata": {},
   "outputs": [
    {
     "data": {
      "text/plain": [
       "['one', ' two', ' three', ' four', ' five', ' six', ' seven']"
      ]
     },
     "execution_count": 41,
     "metadata": {},
     "output_type": "execute_result"
    }
   ],
   "source": [
    "mystr_4 = \"one, two, three, four, five, six, seven\"\n",
    "# it takes sep = ','\n",
    "mystr_4.split(sep = \",\")"
   ]
  },
  {
   "cell_type": "code",
   "execution_count": 42,
   "metadata": {},
   "outputs": [],
   "source": [
    "# complex data type\n",
    "# 23 -> real , 57j -> imaginary \n",
    "val_4 = 23+57j"
   ]
  },
  {
   "cell_type": "code",
   "execution_count": 43,
   "metadata": {},
   "outputs": [
    {
     "name": "stdout",
     "output_type": "stream",
     "text": [
      "(23+57j)\n"
     ]
    }
   ],
   "source": [
    "print(val_4)"
   ]
  },
  {
   "cell_type": "markdown",
   "metadata": {},
   "source": [
    "#### List\n",
    "    * List is mutable data structure.\n",
    "    * It is hetrogenous collection of multiple data items of different types e.g. int, complex, boolean, float, strings etc."
   ]
  },
  {
   "cell_type": "code",
   "execution_count": 44,
   "metadata": {},
   "outputs": [],
   "source": [
    "# Empty list declaration\n",
    "list_1 = []   "
   ]
  },
  {
   "cell_type": "code",
   "execution_count": 45,
   "metadata": {},
   "outputs": [
    {
     "data": {
      "text/plain": [
       "list"
      ]
     },
     "execution_count": 45,
     "metadata": {},
     "output_type": "execute_result"
    }
   ],
   "source": [
    "type(list_1)"
   ]
  },
  {
   "cell_type": "code",
   "execution_count": 46,
   "metadata": {},
   "outputs": [],
   "source": [
    "mylist = [10, 3.7, 'Third Element', True, False, 12.67891, False, 23+55j]"
   ]
  },
  {
   "cell_type": "code",
   "execution_count": 47,
   "metadata": {},
   "outputs": [
    {
     "name": "stdout",
     "output_type": "stream",
     "text": [
      "[10, 3.7, 'Third Element', True, False, 12.67891, False, (23+55j)]\n"
     ]
    }
   ],
   "source": [
    "print(mylist)"
   ]
  },
  {
   "cell_type": "code",
   "execution_count": 48,
   "metadata": {},
   "outputs": [],
   "source": [
    "mylist2 = ['Tom', 'Jerry', 234567, True, False, 10+55j]"
   ]
  },
  {
   "cell_type": "code",
   "execution_count": 49,
   "metadata": {},
   "outputs": [
    {
     "name": "stdout",
     "output_type": "stream",
     "text": [
      "[10, 3.7, 'Third Element', True, False, 12.67891, False, (23+55j), 'Tom', 'Jerry', 234567, True, False, (10+55j)]\n"
     ]
    }
   ],
   "source": [
    "# + is used for concatination of two lists\n",
    "print(mylist + mylist2)"
   ]
  },
  {
   "cell_type": "markdown",
   "metadata": {},
   "source": [
    "#### List Indexing & Slicing"
   ]
  },
  {
   "cell_type": "code",
   "execution_count": 50,
   "metadata": {},
   "outputs": [],
   "source": [
    "mylist3 = mylist + mylist2"
   ]
  },
  {
   "cell_type": "code",
   "execution_count": 51,
   "metadata": {},
   "outputs": [
    {
     "name": "stdout",
     "output_type": "stream",
     "text": [
      "[10, 3.7, 'Third Element', True, False, 12.67891, False, (23+55j), 'Tom', 'Jerry', 234567, True, False, (10+55j)]\n"
     ]
    }
   ],
   "source": [
    "print(mylist3)"
   ]
  },
  {
   "cell_type": "code",
   "execution_count": 52,
   "metadata": {},
   "outputs": [
    {
     "data": {
      "text/plain": [
       "10"
      ]
     },
     "execution_count": 52,
     "metadata": {},
     "output_type": "execute_result"
    }
   ],
   "source": [
    "mylist3[0]"
   ]
  },
  {
   "cell_type": "code",
   "execution_count": 53,
   "metadata": {},
   "outputs": [
    {
     "data": {
      "text/plain": [
       "(10+55j)"
      ]
     },
     "execution_count": 53,
     "metadata": {},
     "output_type": "execute_result"
    }
   ],
   "source": [
    "mylist3[-1]"
   ]
  },
  {
   "cell_type": "code",
   "execution_count": 54,
   "metadata": {},
   "outputs": [
    {
     "data": {
      "text/plain": [
       "['Third Element', True, False, 12.67891, False, (23+55j)]"
      ]
     },
     "execution_count": 54,
     "metadata": {},
     "output_type": "execute_result"
    }
   ],
   "source": [
    "# start index = 2, stop index = 7\n",
    "mylist3[2:8]"
   ]
  },
  {
   "cell_type": "markdown",
   "metadata": {},
   "source": [
    "#### List Methods"
   ]
  },
  {
   "cell_type": "code",
   "execution_count": 55,
   "metadata": {},
   "outputs": [],
   "source": [
    "mylist_1 = ['one', 20, 'three', 45.67, 67+77j, 9999, 'This is a list', 9876543210]"
   ]
  },
  {
   "cell_type": "code",
   "execution_count": 56,
   "metadata": {},
   "outputs": [],
   "source": [
    "mylist_1.append('nine')   # This will add an item to the end of list"
   ]
  },
  {
   "cell_type": "code",
   "execution_count": 57,
   "metadata": {},
   "outputs": [
    {
     "name": "stdout",
     "output_type": "stream",
     "text": [
      "['one', 20, 'three', 45.67, (67+77j), 9999, 'This is a list', 9876543210, 'nine']\n"
     ]
    }
   ],
   "source": [
    "print(mylist_1)"
   ]
  },
  {
   "cell_type": "code",
   "execution_count": 58,
   "metadata": {},
   "outputs": [],
   "source": [
    "# Adding multiple elements in the end of list\n",
    "mylist_1.extend([100, True, False, 'Hundreds'])"
   ]
  },
  {
   "cell_type": "code",
   "execution_count": 59,
   "metadata": {},
   "outputs": [
    {
     "name": "stdout",
     "output_type": "stream",
     "text": [
      "['one', 20, 'three', 45.67, (67+77j), 9999, 'This is a list', 9876543210, 'nine', 100, True, False, 'Hundreds']\n"
     ]
    }
   ],
   "source": [
    "print(mylist_1)"
   ]
  },
  {
   "cell_type": "code",
   "execution_count": 60,
   "metadata": {},
   "outputs": [],
   "source": [
    "# copy() copy elements from one list to another list\n",
    "mylist_2 = mylist_1.copy()"
   ]
  },
  {
   "cell_type": "code",
   "execution_count": 61,
   "metadata": {},
   "outputs": [],
   "source": [
    "# copy by reference\n",
    "mylist_3 = mylist_1"
   ]
  },
  {
   "cell_type": "code",
   "execution_count": 62,
   "metadata": {},
   "outputs": [
    {
     "name": "stdout",
     "output_type": "stream",
     "text": [
      "['one', 20, 'three', 45.67, (67+77j), 9999, 'This is a list', 9876543210, 'nine', 100, True, False, 'Hundreds']\n",
      "['one', 20, 'three', 45.67, (67+77j), 9999, 'This is a list', 9876543210, 'nine', 100, True, False, 'Hundreds']\n"
     ]
    }
   ],
   "source": [
    "print(mylist_2)\n",
    "print(mylist_3)"
   ]
  },
  {
   "cell_type": "code",
   "execution_count": 63,
   "metadata": {},
   "outputs": [],
   "source": [
    "mylist_1.insert(5, 'FIVE')    # add an item at specific index position"
   ]
  },
  {
   "cell_type": "code",
   "execution_count": 64,
   "metadata": {},
   "outputs": [
    {
     "name": "stdout",
     "output_type": "stream",
     "text": [
      "['one', 20, 'three', 45.67, (67+77j), 'FIVE', 9999, 'This is a list', 9876543210, 'nine', 100, True, False, 'Hundreds']\n"
     ]
    }
   ],
   "source": [
    "print(mylist_1)"
   ]
  },
  {
   "cell_type": "code",
   "execution_count": 65,
   "metadata": {},
   "outputs": [
    {
     "name": "stdout",
     "output_type": "stream",
     "text": [
      "['one', 20, 'three', 45.67, (67+77j), 9999, 'This is a list', 9876543210, 'nine', 100, True, False, 'Hundreds']\n",
      "['one', 20, 'three', 45.67, (67+77j), 'FIVE', 9999, 'This is a list', 9876543210, 'nine', 100, True, False, 'Hundreds']\n"
     ]
    }
   ],
   "source": [
    "print(mylist_2)\n",
    "print(mylist_3)"
   ]
  },
  {
   "cell_type": "code",
   "execution_count": 66,
   "metadata": {},
   "outputs": [
    {
     "data": {
      "text/plain": [
       "1"
      ]
     },
     "execution_count": 66,
     "metadata": {},
     "output_type": "execute_result"
    }
   ],
   "source": [
    "mylist_3.count(True)   # count() returns number of times an item is present"
   ]
  },
  {
   "cell_type": "code",
   "execution_count": 67,
   "metadata": {},
   "outputs": [
    {
     "data": {
      "text/plain": [
       "7"
      ]
     },
     "execution_count": 67,
     "metadata": {},
     "output_type": "execute_result"
    }
   ],
   "source": [
    "mylist_3.index('This is a list')"
   ]
  },
  {
   "cell_type": "code",
   "execution_count": 68,
   "metadata": {},
   "outputs": [],
   "source": [
    "mylist_1.extend(['This is a list',9876543210, True, False])"
   ]
  },
  {
   "cell_type": "code",
   "execution_count": 69,
   "metadata": {},
   "outputs": [
    {
     "name": "stdout",
     "output_type": "stream",
     "text": [
      "['one', 20, 'three', 45.67, (67+77j), 'FIVE', 9999, 'This is a list', 9876543210, 'nine', 100, True, False, 'Hundreds', 'This is a list', 9876543210, True, False]\n"
     ]
    }
   ],
   "source": [
    "print(mylist_1)"
   ]
  },
  {
   "cell_type": "code",
   "execution_count": 70,
   "metadata": {},
   "outputs": [
    {
     "data": {
      "text/plain": [
       "8"
      ]
     },
     "execution_count": 70,
     "metadata": {},
     "output_type": "execute_result"
    }
   ],
   "source": [
    "mylist_3.index(9876543210)"
   ]
  },
  {
   "cell_type": "code",
   "execution_count": 71,
   "metadata": {},
   "outputs": [
    {
     "data": {
      "text/plain": [
       "'three'"
      ]
     },
     "execution_count": 71,
     "metadata": {},
     "output_type": "execute_result"
    }
   ],
   "source": [
    "# To drop/delete an item by using index position\n",
    "mylist_3.pop(2)"
   ]
  },
  {
   "cell_type": "code",
   "execution_count": 72,
   "metadata": {},
   "outputs": [],
   "source": [
    "# To drop/delete an item by using value\n",
    "mylist_3.remove('nine')"
   ]
  },
  {
   "cell_type": "code",
   "execution_count": 73,
   "metadata": {},
   "outputs": [
    {
     "name": "stdout",
     "output_type": "stream",
     "text": [
      "['one', 20, 45.67, (67+77j), 'FIVE', 9999, 'This is a list', 9876543210, 100, True, False, 'Hundreds', 'This is a list', 9876543210, True, False]\n"
     ]
    }
   ],
   "source": [
    "print(mylist_3)"
   ]
  },
  {
   "cell_type": "code",
   "execution_count": 74,
   "metadata": {},
   "outputs": [
    {
     "name": "stdout",
     "output_type": "stream",
     "text": [
      "[10, 20, 30, 40, 70, 90]\n"
     ]
    }
   ],
   "source": [
    "mylist_4 = [30, 10, 20, 90, 70, 40]\n",
    "mylist_4.sort()\n",
    "print(mylist_4)"
   ]
  },
  {
   "cell_type": "markdown",
   "metadata": {},
   "source": [
    "#### Tuples\n",
    "    * Tuples are similar to list except that the tuple object are immutable (cannot be modified)\n",
    "    * When we dont want to change data over time , tuples are preffered.\n",
    "    * Iterating over the elements of tuple is faster compared to iterating over list."
   ]
  },
  {
   "cell_type": "code",
   "execution_count": 75,
   "metadata": {},
   "outputs": [],
   "source": [
    "tuple_1 = ()   # Empty Tuple"
   ]
  },
  {
   "cell_type": "code",
   "execution_count": 76,
   "metadata": {},
   "outputs": [],
   "source": [
    "tuple_2 = ('one', 20, 'three', 45.67, 67+77j, 9999, 'This is a list', 9876543210)"
   ]
  },
  {
   "cell_type": "code",
   "execution_count": 77,
   "metadata": {},
   "outputs": [
    {
     "data": {
      "text/plain": [
       "5"
      ]
     },
     "execution_count": 77,
     "metadata": {},
     "output_type": "execute_result"
    }
   ],
   "source": [
    "tuple_2.index(9999)"
   ]
  },
  {
   "cell_type": "code",
   "execution_count": 78,
   "metadata": {},
   "outputs": [],
   "source": [
    "tuple_3 = ('four', 105.67, 17+87j, True, 'This is Tuple', True, False)"
   ]
  },
  {
   "cell_type": "code",
   "execution_count": 79,
   "metadata": {},
   "outputs": [],
   "source": [
    "# This is concatination of two tuples\n",
    "tuple_3 = tuple_3 + tuple_2"
   ]
  },
  {
   "cell_type": "code",
   "execution_count": 80,
   "metadata": {},
   "outputs": [
    {
     "name": "stdout",
     "output_type": "stream",
     "text": [
      "('four', 105.67, (17+87j), True, 'This is Tuple', True, False, 'one', 20, 'three', 45.67, (67+77j), 9999, 'This is a list', 9876543210)\n"
     ]
    }
   ],
   "source": [
    "print(tuple_3)"
   ]
  },
  {
   "cell_type": "code",
   "execution_count": 81,
   "metadata": {},
   "outputs": [
    {
     "name": "stdout",
     "output_type": "stream",
     "text": [
      "['one', 20, 45.67, (67+77j), 'FIVE', 9999, 'This is a list', 9876543210, 100, True, False, 'Hundreds', 'This is a list', 9876543210, True, False]\n"
     ]
    }
   ],
   "source": [
    "print(mylist_3)\n",
    "mylist_3[5] = 100000000"
   ]
  },
  {
   "cell_type": "code",
   "execution_count": 82,
   "metadata": {},
   "outputs": [
    {
     "name": "stdout",
     "output_type": "stream",
     "text": [
      "['one', 20, 45.67, (67+77j), 'FIVE', 100000000, 'This is a list', 9876543210, 100, True, False, 'Hundreds', 'This is a list', 9876543210, True, False]\n"
     ]
    }
   ],
   "source": [
    "print(mylist_3)"
   ]
  },
  {
   "cell_type": "code",
   "execution_count": 83,
   "metadata": {},
   "outputs": [
    {
     "ename": "TypeError",
     "evalue": "'tuple' object does not support item assignment",
     "output_type": "error",
     "traceback": [
      "\u001b[1;31m---------------------------------------------------------------------------\u001b[0m",
      "\u001b[1;31mTypeError\u001b[0m                                 Traceback (most recent call last)",
      "\u001b[1;32m<ipython-input-83-8800592d9273>\u001b[0m in \u001b[0;36m<module>\u001b[1;34m\u001b[0m\n\u001b[0;32m      1\u001b[0m \u001b[1;31m# Tuples are immutable\u001b[0m\u001b[1;33m\u001b[0m\u001b[1;33m\u001b[0m\u001b[1;33m\u001b[0m\u001b[0m\n\u001b[1;32m----> 2\u001b[1;33m \u001b[0mtuple_3\u001b[0m\u001b[1;33m[\u001b[0m\u001b[1;36m5\u001b[0m\u001b[1;33m]\u001b[0m \u001b[1;33m=\u001b[0m \u001b[1;36m123456789\u001b[0m\u001b[1;33m\u001b[0m\u001b[1;33m\u001b[0m\u001b[0m\n\u001b[0m",
      "\u001b[1;31mTypeError\u001b[0m: 'tuple' object does not support item assignment"
     ]
    }
   ],
   "source": [
    "# Tuples are immutable\n",
    "# the below error should not be corrected. The error is correst as tuple is immutable and \n",
    "# in the code below we wanted to update it.\n",
    "tuple_3[5] = 123456789"
   ]
  },
  {
   "cell_type": "markdown",
   "metadata": {},
   "source": [
    "#### Sets \n",
    "    * Sets elements are unique collection of items. No duplicate items are allowed.\n",
    "    * Sets are unordered.Sets has no index attached to any element.\n",
    "    * It is mutable & heterogeneous collection.\n",
    "    * genereally we do not use set too much in data science"
   ]
  },
  {
   "cell_type": "code",
   "execution_count": 7,
   "metadata": {},
   "outputs": [
    {
     "name": "stdout",
     "output_type": "stream",
     "text": [
      "{1, 2, 3, 4, 5, 6, 7, 8, 11}\n"
     ]
    }
   ],
   "source": [
    "# if you have a duplicate value/data, set remove them \n",
    "myset = {1, 2, 3, 4, 5, 6, 7, 7, 8, 8, 6, 11}\n",
    "print(myset)"
   ]
  },
  {
   "cell_type": "code",
   "execution_count": 8,
   "metadata": {},
   "outputs": [
    {
     "name": "stdout",
     "output_type": "stream",
     "text": [
      "{False, 'Hello', 100001.23, True, 'Sets', 10, 20, 30}\n"
     ]
    }
   ],
   "source": [
    "# Sets are also heterogeneous collection, [their values can be string and numerical.]\n",
    "# sets are unordered, look at the output of the code below. OUtput does not have \n",
    "#the same order of the code.\n",
    "myset_1 = {10, 20, 30, \"Hello\",\"Sets\",100001.23,True,False}\n",
    "print(myset_1)"
   ]
  },
  {
   "cell_type": "code",
   "execution_count": 9,
   "metadata": {},
   "outputs": [],
   "source": [
    "A = {1, 2, 3, 4, 5, 6, 7, 8, 9}\n",
    "B = {4, 5, 9, 11, 12, 15}\n",
    "C = {7, 8, 9, 11, 13, 15}"
   ]
  },
  {
   "cell_type": "code",
   "execution_count": 10,
   "metadata": {},
   "outputs": [
    {
     "data": {
      "text/plain": [
       "{1, 2, 3, 4, 5, 6, 7, 8, 9, 11, 12, 15}"
      ]
     },
     "execution_count": 10,
     "metadata": {},
     "output_type": "execute_result"
    }
   ],
   "source": [
    " # A union B. [union or bar merges / adds up the two data sets.]\n",
    "A | B    "
   ]
  },
  {
   "cell_type": "code",
   "execution_count": 11,
   "metadata": {},
   "outputs": [
    {
     "data": {
      "text/plain": [
       "{1, 2, 3, 4, 5, 6, 7, 8, 9, 11, 12, 15}"
      ]
     },
     "execution_count": 11,
     "metadata": {},
     "output_type": "execute_result"
    }
   ],
   "source": [
    "#[instead of A | B, we can write the code belw. they have the same output.]\n",
    "A.union(B)"
   ]
  },
  {
   "cell_type": "code",
   "execution_count": 12,
   "metadata": {},
   "outputs": [
    {
     "data": {
      "text/plain": [
       "{1, 2, 3, 4, 5, 6, 7, 8, 9, 11, 12, 13, 15}"
      ]
     },
     "execution_count": 12,
     "metadata": {},
     "output_type": "execute_result"
    }
   ],
   "source": [
    "A.union(B,C)"
   ]
  },
  {
   "cell_type": "code",
   "execution_count": 13,
   "metadata": {},
   "outputs": [
    {
     "data": {
      "text/plain": [
       "{4, 5, 9}"
      ]
     },
     "execution_count": 13,
     "metadata": {},
     "output_type": "execute_result"
    }
   ],
   "source": [
    "# Intersection - this function finds and mathces the common data / values between A & B\n",
    "A.intersection(B)"
   ]
  },
  {
   "cell_type": "code",
   "execution_count": 15,
   "metadata": {},
   "outputs": [
    {
     "data": {
      "text/plain": [
       "{9}"
      ]
     },
     "execution_count": 15,
     "metadata": {},
     "output_type": "execute_result"
    }
   ],
   "source": [
    "A.intersection(B,C)"
   ]
  },
  {
   "cell_type": "code",
   "execution_count": 95,
   "metadata": {},
   "outputs": [
    {
     "name": "stdout",
     "output_type": "stream",
     "text": [
      "{9, 4, 5}\n",
      "{9}\n"
     ]
    }
   ],
   "source": [
    "print(A & B)\n",
    "print(A & B & C)"
   ]
  },
  {
   "cell_type": "code",
   "execution_count": 23,
   "metadata": {},
   "outputs": [],
   "source": [
    "# used to add only an item. [it also prove mutability of sets]\n",
    "myset_1.add('nine')"
   ]
  },
  {
   "cell_type": "code",
   "execution_count": 24,
   "metadata": {},
   "outputs": [
    {
     "name": "stdout",
     "output_type": "stream",
     "text": [
      "{False, 'Hello', 100001.23, True, 'Sets', 10, 20, 'nine', 30}\n"
     ]
    }
   ],
   "source": [
    "print(myset_1)"
   ]
  },
  {
   "cell_type": "code",
   "execution_count": 25,
   "metadata": {},
   "outputs": [],
   "source": [
    "# sets take any index position to add at random positions\n",
    "myset_1.update(['eleven','ten','twelve'])"
   ]
  },
  {
   "cell_type": "code",
   "execution_count": 26,
   "metadata": {},
   "outputs": [
    {
     "name": "stdout",
     "output_type": "stream",
     "text": [
      "{False, 'Hello', 100001.23, True, 'Sets', 'eleven', 'ten', 10, 20, 'twelve', 'nine', 30}\n"
     ]
    }
   ],
   "source": [
    "print(myset_1)"
   ]
  },
  {
   "cell_type": "code",
   "execution_count": 27,
   "metadata": {},
   "outputs": [],
   "source": [
    "myset_1.remove('Hello')"
   ]
  },
  {
   "cell_type": "code",
   "execution_count": 28,
   "metadata": {},
   "outputs": [
    {
     "data": {
      "text/plain": [
       "[False, 100001.23, True, 'Sets', 'eleven', 'ten', 10, 20, 'twelve', 'nine', 30]"
      ]
     },
     "execution_count": 28,
     "metadata": {},
     "output_type": "execute_result"
    }
   ],
   "source": [
    "#list function lists our data\n",
    "list(myset_1)"
   ]
  },
  {
   "cell_type": "code",
   "execution_count": 29,
   "metadata": {},
   "outputs": [
    {
     "data": {
      "text/plain": [
       "100001.23"
      ]
     },
     "execution_count": 29,
     "metadata": {},
     "output_type": "execute_result"
    }
   ],
   "source": [
    "# typecasting sets to list datatype [typecaste = assign] [ \"why we do this, so to \n",
    "#access individual elements\"]\n",
    "list(myset_1)[1]"
   ]
  },
  {
   "cell_type": "code",
   "execution_count": 35,
   "metadata": {},
   "outputs": [
    {
     "data": {
      "text/plain": [
       "True"
      ]
     },
     "execution_count": 35,
     "metadata": {},
     "output_type": "execute_result"
    }
   ],
   "source": [
    "\n",
    "list(myset_1)[2]"
   ]
  },
  {
   "cell_type": "code",
   "execution_count": 34,
   "metadata": {},
   "outputs": [
    {
     "data": {
      "text/plain": [
       "'eleven'"
      ]
     },
     "execution_count": 34,
     "metadata": {},
     "output_type": "execute_result"
    }
   ],
   "source": [
    "list(myset_1)[4]"
   ]
  },
  {
   "cell_type": "code",
   "execution_count": 36,
   "metadata": {},
   "outputs": [
    {
     "data": {
      "text/plain": [
       "False"
      ]
     },
     "execution_count": 36,
     "metadata": {},
     "output_type": "execute_result"
    }
   ],
   "source": [
    "# in is keyword. in is keyword to check if an item is present in a dataset \n",
    "'Hello' in myset_1"
   ]
  },
  {
   "cell_type": "code",
   "execution_count": null,
   "metadata": {},
   "outputs": [],
   "source": []
  },
  {
   "cell_type": "code",
   "execution_count": 106,
   "metadata": {},
   "outputs": [
    {
     "name": "stdout",
     "output_type": "stream",
     "text": [
      "False\n",
      "True\n"
     ]
    }
   ],
   "source": [
    "# check if specific value is present on our data or not/ value condition check satement\n",
    "print('Hello' in myset_1)\n",
    "print('eleven' in myset_1)"
   ]
  },
  {
   "cell_type": "code",
   "execution_count": null,
   "metadata": {},
   "outputs": [],
   "source": []
  },
  {
   "cell_type": "code",
   "execution_count": 107,
   "metadata": {},
   "outputs": [
    {
     "data": {
      "text/plain": [
       "frozenset({1234, 234567.78, 'Apple', 'Ball', 'Frozen Set', True})"
      ]
     },
     "execution_count": 107,
     "metadata": {},
     "output_type": "execute_result"
    }
   ],
   "source": [
    "# sets are mutable collectin frozens are immutable collection\n",
    "# you can convert your data into tuple using tuple function\n",
    "#tuple and frozenset are function. \n",
    "tuple_1 = ('Apple','Ball','Frozen Set',1234,True,234567.78)\n",
    "# frozen sets are immutable sets\n",
    "frozenset(tuple_1)"
   ]
  },
  {
   "cell_type": "code",
   "execution_count": 108,
   "metadata": {},
   "outputs": [
    {
     "data": {
      "text/plain": [
       "frozenset"
      ]
     },
     "execution_count": 108,
     "metadata": {},
     "output_type": "execute_result"
    }
   ],
   "source": [
    "var_1 = frozenset(tuple_1)\n",
    "type(var_1)"
   ]
  },
  {
   "cell_type": "code",
   "execution_count": null,
   "metadata": {},
   "outputs": [],
   "source": []
  },
  {
   "cell_type": "markdown",
   "metadata": {},
   "source": [
    "#### Dictionary\n",
    "    * Dictionary is collection of keys and values, where keys are unique & values may or may not be duplicate.\n",
    "    * Dictionary is a mutable data type meaning we can update it, add more keys later and we can attache more values to it.\n",
    "    * Dictionary is much used data type\n",
    "    * this is tottaly differnt data type\n",
    "    "
   ]
  },
  {
   "cell_type": "code",
   "execution_count": null,
   "metadata": {},
   "outputs": [],
   "source": [
    "# Empty Dictionary. First we need to declare a dictionary\n",
    "# dict is a function\n",
    "#to decalre a dictionary data set, either we use dict function or, curly bracket; one of the following two codes.\n",
    "\n",
    "my_dict = dict()\n",
    "my_dict = {}"
   ]
  },
  {
   "cell_type": "code",
   "execution_count": null,
   "metadata": {},
   "outputs": [],
   "source": [
    "\"\"\"\n",
    "curly brakets are for dictionary. You may be wonderig that curly brackets are also part of the set.[ for exapmpel refer to the output of code written for set. Their output \n",
    "comes in curly brackets.\n",
    "when you are declaring for a variable [ in the code above my_dict = {}, curly bracket is declared for the variable my_dict], curly brackets are meant to declare an empty dictionary not to decalre an empty sets. for sets you have to use function. We have a set function. You can easily use it. \n",
    "\"\"\" "
   ]
  },
  {
   "cell_type": "code",
   "execution_count": 110,
   "metadata": {},
   "outputs": [],
   "source": [
    "# how to declare a deictionary.\n",
    "my_dict1 = {'One':'Apple','Two':'Banana','Three':'Oranges','Four':10000}"
   ]
  },
  {
   "cell_type": "code",
   "execution_count": null,
   "metadata": {},
   "outputs": [],
   "source": [
    "\"\"\"\n",
    "How we can create dictionary:\n",
    "1- one is simple squre bracket. Like:\n",
    "the above code:\n",
    "my_dict2 = {'Name':'Ranjeet','ID':78771,'DOB':1992,'Job':'Data Analyst'}\n",
    "my_dict2 \n",
    "\n",
    "the second option is to use dictionary to typecast the collection / list of \n",
    "tuple which is the below code.\n",
    "\"\"\"\n"
   ]
  },
  {
   "cell_type": "code",
   "execution_count": 48,
   "metadata": {},
   "outputs": [
    {
     "data": {
      "text/plain": [
       "{'Name': 'Ranjeet', 'ID': 78771, 'DOB': 1992, 'Job': 'Data Analyst'}"
      ]
     },
     "execution_count": 48,
     "metadata": {},
     "output_type": "execute_result"
    }
   ],
   "source": [
    "#my dictioary is important. we can use the code below when we use \n",
    "#pandas to create table. First one is column and second variable is raw.\n",
    "\n",
    "my_dict2 = {'Name':'Ranjeet','ID':78771,'DOB':1992,'Job':'Data Analyst'}\n",
    "my_dict2"
   ]
  },
  {
   "cell_type": "code",
   "execution_count": 49,
   "metadata": {},
   "outputs": [
    {
     "name": "stdout",
     "output_type": "stream",
     "text": [
      "{1: 'One', 2: 'Two', 3: 'Three', 4: 'Four', 5: 'Five'}\n"
     ]
    }
   ],
   "source": [
    "#what is the application of already declared data type.   \n",
    "#typecasting list of tuples into dictionary\n",
    "#tuples are useful here. \n",
    "#small bracket is used and represent your tuples:(1,'One'),(2,'Two'),(3,'Three'),(4,'Four'),(5, 'Five')\n",
    "# whereas square bracket represents your list. [(1,'One...)]\n",
    "# so we call this as list of tuples:[(1,'One'),(2,'Two'),(3,'Three'),(4,'Four'),(5, 'Five')]\n",
    "# we put this in the dictionary funtion: dict(); dict([(1,'One'),(2,'Two'),(3,'Three'),(4,'Four'),(5, 'Five')])\n",
    "#which typecast this list of tupels as a dictionary.\n",
    "#use dictionary to typecase list of tuples.\n",
    "# when you put everythings under dict() fucntion: dict([(1,'One'),(2,'Two'),(3,'Three'),(4,'Four'),(5, 'Five')])\n",
    "#it is typecasting, typecasting list of tuple as dictionary. In a simple terminology, if you look at the\n",
    "# output of the the following code, the way it appears is like the output of dictionary; 1:'one, 2: 'tow', etc. This form of data \n",
    "#is the way dictionary output is.\n",
    "my_dict3 = dict([(1,'One'),(2,'Two'),(3,'Three'),(4,'Four'),(5, 'Five')])\n",
    "print(my_dict3)"
   ]
  },
  {
   "cell_type": "code",
   "execution_count": 50,
   "metadata": {
    "collapsed": true
   },
   "outputs": [
    {
     "data": {
      "text/plain": [
       "dict"
      ]
     },
     "execution_count": 50,
     "metadata": {},
     "output_type": "execute_result"
    }
   ],
   "source": [
    "type(my_dict3)"
   ]
  },
  {
   "cell_type": "code",
   "execution_count": 51,
   "metadata": {},
   "outputs": [],
   "source": [
    "# Insert a new key ; city and pass a new value; Pune. This is the way to updating and also adding single value.\n",
    "#if City is already existed, then city will be updated if City does not existed then it will be added.\n",
    "my_dict2['City'] = 'Pune'"
   ]
  },
  {
   "cell_type": "code",
   "execution_count": 52,
   "metadata": {
    "collapsed": true
   },
   "outputs": [
    {
     "name": "stdout",
     "output_type": "stream",
     "text": [
      "{'Name': 'Ranjeet', 'ID': 78771, 'DOB': 1992, 'Job': 'Data Analyst', 'City': 'Pune'}\n"
     ]
    }
   ],
   "source": [
    "print(my_dict2)"
   ]
  },
  {
   "cell_type": "code",
   "execution_count": 43,
   "metadata": {},
   "outputs": [],
   "source": [
    "my_dict2."
   ]
  },
  {
   "cell_type": "code",
   "execution_count": 71,
   "metadata": {},
   "outputs": [],
   "source": [
    "# Adding Multiple Values\n",
    "#in the code below update is a funciotn.\n",
    "# in this code we only have two values\n",
    "dummy = {'Department':'Finance','Salary':10000}\n",
    "my_dict2.update(dummy)"
   ]
  },
  {
   "cell_type": "code",
   "execution_count": 72,
   "metadata": {},
   "outputs": [
    {
     "data": {
      "text/plain": [
       "{'Name': 'Ranjeet',\n",
       " 'ID': 78771,\n",
       " 'DOB': 1992,\n",
       " 'Job': 'Data Analyst',\n",
       " 'City': 'Nagpur',\n",
       " 'city': 'nagpur',\n",
       " 'home': 'Iran',\n",
       " 'Department': 'Finance',\n",
       " 'Salary': 10000}"
      ]
     },
     "execution_count": 72,
     "metadata": {},
     "output_type": "execute_result"
    }
   ],
   "source": [
    "my_dict2"
   ]
  },
  {
   "cell_type": "code",
   "execution_count": 53,
   "metadata": {},
   "outputs": [
    {
     "name": "stdout",
     "output_type": "stream",
     "text": [
      "{'Name': 'Ranjeet', 'ID': 78771, 'DOB': 1992, 'Job': 'Data Analyst', 'City': 'Pune'}\n"
     ]
    }
   ],
   "source": [
    "print(my_dict2)"
   ]
  },
  {
   "cell_type": "code",
   "execution_count": 120,
   "metadata": {},
   "outputs": [
    {
     "data": {
      "text/plain": [
       "dict_keys(['Name', 'ID', 'DOB', 'Job', 'City', 'Department', 'Salary'])"
      ]
     },
     "execution_count": 120,
     "metadata": {},
     "output_type": "execute_result"
    }
   ],
   "source": [
    "# display all keys \n",
    "my_dict2.keys()"
   ]
  },
  {
   "cell_type": "code",
   "execution_count": 54,
   "metadata": {},
   "outputs": [
    {
     "data": {
      "text/plain": [
       "dict_values(['Ranjeet', 78771, 1992, 'Data Analyst', 'Pune'])"
      ]
     },
     "execution_count": 54,
     "metadata": {},
     "output_type": "execute_result"
    }
   ],
   "source": [
    "# display all values \n",
    "# values are hetroagenous\n",
    "my_dict2.values()"
   ]
  },
  {
   "cell_type": "code",
   "execution_count": 74,
   "metadata": {},
   "outputs": [
    {
     "name": "stdout",
     "output_type": "stream",
     "text": [
      "{'Name': 'Ranjeet', 'ID': 78771, 'DOB': 1992, 'Job': 'Data Analyst', 'City': 'Nagpur', 'city': 'nagpur', 'Department': 'Finance', 'Salary': 10000}\n"
     ]
    }
   ],
   "source": [
    "# Updating existing key. This code demostrate that dictioary is mutable / updatable which was not possibel with tuple and frozen set\n",
    "# the below cow target value of City which is a key\n",
    "# key names are case sensetive\n",
    "my_dict2['City'] = 'Nagpur'\n",
    "print(my_dict2)"
   ]
  },
  {
   "cell_type": "code",
   "execution_count": 76,
   "metadata": {},
   "outputs": [
    {
     "name": "stdout",
     "output_type": "stream",
     "text": [
      "{'Name': 'Ranjeet', 'ID': 78771, 'DOB': 1992, 'Job': 'Data Analyst', 'City': 'Nagpur', 'city': 'nagpur', 'Department': 'Finance', 'Salary': 10000, 'home': 'Iran'}\n",
      "{'Name': 'Ranjeet', 'ID': 78771, 'DOB': 1992, 'Job': 'Data Analyst', 'City': 'Nagpur', 'city': 'nagpur', 'Department': 'Finance', 'Salary': 10000, 'home': 'Iran'}\n"
     ]
    }
   ],
   "source": [
    "# key names are case sensetive. \n",
    "# in this case City is already existed in the dictionary, so the below code will add vakue. \n",
    "# We can add new key and value with the same code; instead of City, add whatever key and value you \n",
    "#wish. Like the following code. Refer to code line number 65:my_dict2['home'] = 'Iran'\n",
    "#print(my_dict2)\n",
    "my_dict2['city'] = 'nagpur'\n",
    "print(my_dict2)\n",
    "my_dict2['home'] = 'Iran'\n",
    "print(my_dict2)"
   ]
  },
  {
   "cell_type": "code",
   "execution_count": 77,
   "metadata": {},
   "outputs": [
    {
     "data": {
      "text/plain": [
       "'Iran'"
      ]
     },
     "execution_count": 77,
     "metadata": {},
     "output_type": "execute_result"
    }
   ],
   "source": [
    "#pop function elimintaes / delets key as well as value.\n",
    "# in this case you do not use indexes, you have to write key names.\n",
    "my_dict2.pop('home')"
   ]
  },
  {
   "cell_type": "code",
   "execution_count": null,
   "metadata": {},
   "outputs": [],
   "source": []
  },
  {
   "cell_type": "code",
   "execution_count": 78,
   "metadata": {},
   "outputs": [
    {
     "data": {
      "text/plain": [
       "{'Name': 'Ranjeet',\n",
       " 'ID': 78771,\n",
       " 'DOB': 1992,\n",
       " 'Job': 'Data Analyst',\n",
       " 'City': 'Nagpur',\n",
       " 'city': 'nagpur',\n",
       " 'Department': 'Finance',\n",
       " 'Salary': 10000}"
      ]
     },
     "execution_count": 78,
     "metadata": {},
     "output_type": "execute_result"
    }
   ],
   "source": [
    "my_dict2"
   ]
  },
  {
   "cell_type": "code",
   "execution_count": 80,
   "metadata": {},
   "outputs": [
    {
     "data": {
      "text/plain": [
       "{'SL1001': {'Name': 'Snehal', 'Salary': 80000},\n",
       " 'SL1002': {'Name': 'Ranjeet', 'Salary': 90000}}"
      ]
     },
     "execution_count": 80,
     "metadata": {},
     "output_type": "execute_result"
    }
   ],
   "source": [
    "# Nested Dictionary. Nested dictionary means you can create a dictionary inside a dctioanry.\n",
    "# ew use {{},{}, {}} to add dictionaru inside the other dictionary. it's called nested dictionary.\n",
    "# my undesrtanding; we use the folloing format to add/nest a dictinary inside another disctionary:\n",
    "#{'starting key':{'key':'value','key':'value','key':'value'},'starting key':{'key':'value',...}}\n",
    "participants = {'SL1001':{'Name':'Snehal','Salary':80000},\n",
    "                'SL1002':{'Name':'Ranjeet','Salary':90000}}\n",
    "participants"
   ]
  },
  {
   "cell_type": "code",
   "execution_count": 129,
   "metadata": {},
   "outputs": [
    {
     "data": {
      "text/plain": [
       "{'Name': 'Snehal', 'Salary': 80000}"
      ]
     },
     "execution_count": 129,
     "metadata": {},
     "output_type": "execute_result"
    }
   ],
   "source": [
    "#this code gives me dictioanry \n",
    "participants['SL1001']"
   ]
  },
  {
   "cell_type": "code",
   "execution_count": 132,
   "metadata": {},
   "outputs": [
    {
     "name": "stdout",
     "output_type": "stream",
     "text": [
      "90000\n"
     ]
    }
   ],
   "source": [
    "#this code gives me values of dicationary by printing the keys: 'SL1002','Salary'\n",
    "print(participants['SL1002']['Salary'])"
   ]
  },
  {
   "attachments": {
    "image.png": {
     "image/png": "[encoded data removed]"
    }
   },
   "cell_type": "markdown",
   "metadata": {},
   "source": [
    "# Nested List\n",
    "\"\"\"\n",
    "Here I am going to nest my list. My list as it is mentioned in the above codes, code 46  i guess\n",
    "is :![image.png](attachment:image.png)\n",
    "\n",
    "In the list I am going to nest a new list which is ['Alpha','Zeta',101,True] \n",
    "\"\"\"\n"
   ]
  },
  {
   "cell_type": "code",
   "execution_count": 81,
   "metadata": {},
   "outputs": [],
   "source": [
    "mynestedlist = [10, 3.7, 'Third Element', True, False, 12.67891, False, 23+55j,['Alpha','Zeta',101,True]]"
   ]
  },
  {
   "cell_type": "code",
   "execution_count": 82,
   "metadata": {},
   "outputs": [
    {
     "data": {
      "text/plain": [
       "[10,\n",
       " 3.7,\n",
       " 'Third Element',\n",
       " True,\n",
       " False,\n",
       " 12.67891,\n",
       " False,\n",
       " (23+55j),\n",
       " ['Alpha', 'Zeta', 101, True]]"
      ]
     },
     "execution_count": 82,
     "metadata": {},
     "output_type": "execute_result"
    }
   ],
   "source": [
    "mynestedlist"
   ]
  },
  {
   "cell_type": "markdown",
   "metadata": {},
   "source": [
    "Dictionary Indexing"
   ]
  },
  {
   "attachments": {
    "image.png": {
     "image/png": "[encoded data removed]"
    }
   },
   "cell_type": "markdown",
   "metadata": {},
   "source": [
    "![image.png](attachment:image.png)"
   ]
  },
  {
   "cell_type": "code",
   "execution_count": 83,
   "metadata": {},
   "outputs": [
    {
     "data": {
      "text/plain": [
       "['Alpha', 'Zeta', 101, True]"
      ]
     },
     "execution_count": 83,
     "metadata": {},
     "output_type": "execute_result"
    }
   ],
   "source": [
    "#access the last element:\n",
    "mynestedlist[-1]"
   ]
  },
  {
   "cell_type": "code",
   "execution_count": 89,
   "metadata": {},
   "outputs": [
    {
     "data": {
      "text/plain": [
       "(23+55j)"
      ]
     },
     "execution_count": 89,
     "metadata": {},
     "output_type": "execute_result"
    }
   ],
   "source": [
    "mynestedlist[-2]"
   ]
  },
  {
   "cell_type": "code",
   "execution_count": 84,
   "metadata": {},
   "outputs": [
    {
     "data": {
      "text/plain": [
       "'Zeta'"
      ]
     },
     "execution_count": 84,
     "metadata": {},
     "output_type": "execute_result"
    }
   ],
   "source": [
    "# -1 refers to the overal value and 1 refers to the specific value/element\n",
    "mynestedlist[-1][1]"
   ]
  },
  {
   "cell_type": "code",
   "execution_count": 86,
   "metadata": {},
   "outputs": [
    {
     "data": {
      "text/plain": [
       "3.7"
      ]
     },
     "execution_count": 86,
     "metadata": {},
     "output_type": "execute_result"
    }
   ],
   "source": [
    "mynestedlist[1]\n"
   ]
  },
  {
   "cell_type": "code",
   "execution_count": 88,
   "metadata": {},
   "outputs": [
    {
     "data": {
      "text/plain": [
       "(23+55j)"
      ]
     },
     "execution_count": 88,
     "metadata": {},
     "output_type": "execute_result"
    }
   ],
   "source": [
    "mynestedlist[-2]"
   ]
  },
  {
   "cell_type": "code",
   "execution_count": null,
   "metadata": {},
   "outputs": [],
   "source": []
  }
 ],
 "metadata": {
  "kernelspec": {
   "display_name": "Python 3",
   "language": "python",
   "name": "python3"
  },
  "language_info": {
   "codemirror_mode": {
    "name": "ipython",
    "version": 3
   },
   "file_extension": ".py",
   "mimetype": "text/x-python",
   "name": "python",
   "nbconvert_exporter": "python",
   "pygments_lexer": "ipython3",
   "version": "3.8.3"
  }
 },
 "nbformat": 4,
 "nbformat_minor": 4
}
