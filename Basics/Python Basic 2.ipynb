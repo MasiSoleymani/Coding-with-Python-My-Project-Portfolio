{
 "cells": [
  {
   "cell_type": "markdown",
   "metadata": {},
   "source": [
    "#### Classes & Objects\n",
    "    * A class is an object constructor or a \"blueprint\" for creating objects.\n",
    "    * Objects are nothing but an encapsulation of multiple variables and functions in a single entity.\n",
    "    * Objects get their variables and functions from classes.\n",
    "    * self parameter is a reference to current/newly created object of class. It is used to access class variables/functions etc.\n",
    "    * self must be first parameter of any function in class."
   ]
  },
  {
   "cell_type": "code",
   "execution_count": 5,
   "metadata": {},
   "outputs": [],
   "source": [
    "# declare a class with class name\n",
    "class className:\n",
    "    # declare a function with parameter \"name\"\n",
    "    def createName(self, name):\n",
    "        # intialize object with self.name = name passed by user\n",
    "        self.name = name\n",
    "    \n",
    "    def greetings(self):\n",
    "        # self.name is public access modifiers\n",
    "        print(\"Hello \", self.name)\n",
    "\n",
    "# obj is object of class\n",
    "obj = className()"
   ]
  },
  {
   "cell_type": "code",
   "execution_count": 4,
   "metadata": {},
   "outputs": [
    {
     "name": "stdout",
     "output_type": "stream",
     "text": [
      "Hello  Susmita\n"
     ]
    }
   ],
   "source": [
    "# calling a function using an object\n",
    "obj.createName(\"Susmita\")\n",
    "obj.greetings()"
   ]
  },
  {
   "cell_type": "code",
   "execution_count": 6,
   "metadata": {},
   "outputs": [],
   "source": [
    "class Employee:\n",
    "    def __init__(self, name, birthdate, address, contact, email):\n",
    "        self.name = name\n",
    "        self.birthdate = birthdate\n",
    "        self.address = address\n",
    "        self.contact = contact\n",
    "        self.email = email"
   ]
  },
  {
   "cell_type": "code",
   "execution_count": 9,
   "metadata": {},
   "outputs": [],
   "source": [
    "import datetime\n",
    "\n",
    "emp = Employee(\"Eleven Hopper\", \n",
    "               datetime.date(1999,3,13),  # year, month, date\n",
    "               \"Street No. 12, GreenVille\",\n",
    "               \"5555 456 0987\",\n",
    "               \"eleven_hopper@example.com\")"
   ]
  },
  {
   "cell_type": "code",
   "execution_count": 11,
   "metadata": {},
   "outputs": [
    {
     "name": "stdout",
     "output_type": "stream",
     "text": [
      "Eleven Hopper eleven_hopper@example.com\n"
     ]
    }
   ],
   "source": [
    "print(emp.name, emp.email)"
   ]
  },
  {
   "cell_type": "markdown",
   "metadata": {},
   "source": [
    "#### Public , Private and Protected Access Modifiers"
   ]
  },
  {
   "cell_type": "code",
   "execution_count": 12,
   "metadata": {},
   "outputs": [],
   "source": [
    "# Example of public access modifier in a class\n",
    "class Employee:\n",
    "    # declare constructor\n",
    "    def __init__(self, name, age):\n",
    "        # public data members\n",
    "        self.employeeName = name\n",
    "        self.employeeAge = age\n",
    "    \n",
    "    # public member function\n",
    "    def printAge(self):\n",
    "        # accessing public data member within class\n",
    "        print(\"Employee Age: \", self.employeeAge)"
   ]
  },
  {
   "cell_type": "code",
   "execution_count": 15,
   "metadata": {},
   "outputs": [
    {
     "name": "stdout",
     "output_type": "stream",
     "text": [
      "Employee Age:  25\n"
     ]
    }
   ],
   "source": [
    "# create object of class Employee\n",
    "empobj = Employee(\"Omerah\", 25)\n",
    "# calling a public member function of class\n",
    "empobj.printAge()"
   ]
  },
  {
   "cell_type": "code",
   "execution_count": 16,
   "metadata": {},
   "outputs": [],
   "source": [
    "# Example of private access modifier in a class\n",
    "# super class\n",
    "class Employee:\n",
    "    # protected data members\n",
    "    _name = None\n",
    "    _department = None\n",
    "    \n",
    "    # declare constructor\n",
    "    def __init__(self, name, department):\n",
    "        # protected data members\n",
    "        self._name = name\n",
    "        self._department = department\n",
    "    \n",
    "    # protected member function\n",
    "    def _display(self):\n",
    "        # accessing public data member within class\n",
    "        print(\"Employee Name: \", self._name)\n",
    "        print(\"Employee Department: \", self._department)"
   ]
  },
  {
   "cell_type": "code",
   "execution_count": 17,
   "metadata": {},
   "outputs": [
    {
     "name": "stdout",
     "output_type": "stream",
     "text": [
      "Name:  Snehal\n",
      "Employee Name:  Snehal\n",
      "Employee Department:  Data Science\n"
     ]
    }
   ],
   "source": [
    "# derived class\n",
    "class EmpDetails(Employee):\n",
    "    def __init__(self, name, department):\n",
    "        Employee.__init__(self, name, department)\n",
    "    \n",
    "    # public data members\n",
    "    def displayDetails(self):\n",
    "        # accessing protected data members of super class\n",
    "        print(\"Name: \" , self._name)\n",
    "        self._display()\n",
    "\n",
    "# declare object of derived class\n",
    "obj = EmpDetails(\"Snehal\", \"Data Science\")\n",
    "obj.displayDetails()"
   ]
  },
  {
   "cell_type": "code",
   "execution_count": 18,
   "metadata": {},
   "outputs": [],
   "source": [
    "# Private Access Modifier\n",
    "class Employee:\n",
    "    # protected data members\n",
    "    __name = None\n",
    "    __department = None\n",
    "    \n",
    "    # declare constructor\n",
    "    def __init__(self, name, department):\n",
    "        # protected data members\n",
    "        self.__name = name\n",
    "        self.__department = department\n",
    "    \n",
    "    # private member function\n",
    "    def __display(self):\n",
    "        \n",
    "        # accessing private data member within class\n",
    "        print(\"Employee Name: \", self.__name)\n",
    "        print(\"Employee Department: \", self.__department)\n",
    "    \n",
    "    # public function\n",
    "    def accessPrivateFunction(self):\n",
    "        self.__display()"
   ]
  },
  {
   "cell_type": "code",
   "execution_count": 21,
   "metadata": {},
   "outputs": [
    {
     "name": "stdout",
     "output_type": "stream",
     "text": [
      "Enter Emp Name: Pranil\n",
      "Enter Emp Department: Banking\n",
      "Employee Name:  Pranil\n",
      "Employee Department:  Banking\n"
     ]
    }
   ],
   "source": [
    "# create object\n",
    "name = input(\"Enter Emp Name: \")\n",
    "dept = input(\"Enter Emp Department: \")\n",
    "obj = Employee(name, dept)\n",
    "obj.accessPrivateFunction()"
   ]
  },
  {
   "cell_type": "markdown",
   "metadata": {},
   "source": [
    "#### Inheritance\n",
    "    * Inheritance provides code reusability in the program because we can use an existing class (Super Class/Parent Class/Base Class) to create a new class (Sub Class/Child Class/Derived Class) instead of creating it from scratch."
   ]
  },
  {
   "cell_type": "code",
   "execution_count": 23,
   "metadata": {},
   "outputs": [],
   "source": [
    "# Parent Class Declaration\n",
    "class Parent:\n",
    "    # constructor\n",
    "    def __init__(self, name):\n",
    "        self.name = name\n",
    "        print(\"Calling name : \" , self.name)\n",
    "    def parentMethod(self):\n",
    "        print(\"Calling parent method\")\n",
    "\n",
    "# Derived class declaration\n",
    "class Child(Parent):\n",
    "    def __init__(self):\n",
    "        print(\"Calling child constructor\")\n",
    "    def childMethod(self):\n",
    "        print(\"Calling child method\")"
   ]
  },
  {
   "cell_type": "code",
   "execution_count": 24,
   "metadata": {},
   "outputs": [
    {
     "name": "stdout",
     "output_type": "stream",
     "text": [
      "Calling name :  Python\n",
      "Calling child constructor\n"
     ]
    }
   ],
   "source": [
    "# object of base class\n",
    "obj1 = Parent(\"Python\")\n",
    "# object of child class\n",
    "obj2 = Child()"
   ]
  },
  {
   "cell_type": "code",
   "execution_count": 25,
   "metadata": {},
   "outputs": [
    {
     "name": "stdout",
     "output_type": "stream",
     "text": [
      "Calling parent method\n",
      "Calling child method\n"
     ]
    }
   ],
   "source": [
    "obj2.parentMethod()\n",
    "obj2.childMethod()"
   ]
  },
  {
   "cell_type": "raw",
   "metadata": {},
   "source": [
    "# Multi-Level Inheritance\n",
    "class Parent:\n",
    "    statement(s)\n",
    "\n",
    "class Child(Parent):\n",
    "    statement(s)\n",
    "\n",
    "class GrandChild(Child):\n",
    "    statement(s)"
   ]
  },
  {
   "cell_type": "raw",
   "metadata": {},
   "source": [
    "# Hierarical Inheritance\n",
    "class Parent:\n",
    "    statement(s)\n",
    "\n",
    "# Two derived class using one parent class\n",
    "class Child1(Parent):\n",
    "    statement(s)\n",
    "\n",
    "class Child2(Child):\n",
    "    statement(s)"
   ]
  },
  {
   "cell_type": "code",
   "execution_count": 26,
   "metadata": {},
   "outputs": [
    {
     "name": "stdout",
     "output_type": "stream",
     "text": [
      "50\n"
     ]
    }
   ],
   "source": [
    "## Polymorphic Functions\n",
    "# var3 = 0 (default declaration)\n",
    "def addition(var1, var2, var3 = 0):\n",
    "    return var1 + var2 + var3\n",
    "\n",
    "print(addition(20, 30))"
   ]
  },
  {
   "cell_type": "code",
   "execution_count": 27,
   "metadata": {},
   "outputs": [
    {
     "name": "stdout",
     "output_type": "stream",
     "text": [
      "90\n"
     ]
    }
   ],
   "source": [
    "print(addition(20, 30, 40))"
   ]
  },
  {
   "cell_type": "code",
   "execution_count": null,
   "metadata": {},
   "outputs": [],
   "source": []
  }
 ],
 "metadata": {
  "kernelspec": {
   "display_name": "Python 3",
   "language": "python",
   "name": "python3"
  },
  "language_info": {
   "codemirror_mode": {
    "name": "ipython",
    "version": 3
   },
   "file_extension": ".py",
   "mimetype": "text/x-python",
   "name": "python",
   "nbconvert_exporter": "python",
   "pygments_lexer": "ipython3",
   "version": "3.8.5"
  }
 },
 "nbformat": 4,
 "nbformat_minor": 4
}
